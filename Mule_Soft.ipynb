{
  "cells": [
    {
      "cell_type": "code",
      "execution_count": 22,
      "metadata": {
        "id": "dWtsh5rnaLZe"
      },
      "outputs": [],
      "source": [
        "import sqlite3\n",
        "con = sqlite3.connect('MovieDatabase.db')"
      ]
    },
    {
      "cell_type": "code",
      "execution_count": 23,
      "metadata": {
        "colab": {
          "base_uri": "https://localhost:8080/"
        },
        "id": "UxVm1zscaLZl",
        "outputId": "d2a82c88-6293-4e76-8a96-f62cfc66c80e"
      },
      "outputs": [
        {
          "output_type": "execute_result",
          "data": {
            "text/plain": [
              "<sqlite3.Cursor at 0x7fb942122ce0>"
            ]
          },
          "metadata": {},
          "execution_count": 23
        }
      ],
      "source": [
        "cur = con.cursor()\n",
        "\n",
        "# Create table\n",
        "cur.execute('''CREATE TABLE MOVIE\n",
        "               (Movie_Name text, Lead_Actor text, Lead_Actress text, Director text, YOR text)''')\n"
      ]
    },
    {
      "cell_type": "code",
      "execution_count": 24,
      "metadata": {
        "id": "WCnr8mU6aLZp"
      },
      "outputs": [],
      "source": [
        "# Insert a row of data\n",
        "cur.execute(\"INSERT INTO MOVIE VALUES ('ABCD','Vishnu','Babita', 'Remo','2013')\")\n",
        "cur.execute(\"INSERT INTO MOVIE VALUES('ABCD2','Prabhu Deva', 'Shraddha', 'Remo', '2015')\")\n",
        "cur.execute(\"INSERT INTO MOVIE VALUES('Dune','Josh Brolin', 'Rohini', 'Denis Villeneuve', '2021')\")\n",
        "cur.execute(\"INSERT INTO MOVIE VALUES('Old','Gael García Bernal', 'Eliza Scanlen', 'M. Night Shyamalan', '2025')\")\n",
        "cur.execute(\"INSERT INTO MOVIE VALUES('Iron Man','Stan Lee', 'Renuka', 'Jon Favreau', '2016')\")\n",
        "\n",
        "# Doing Save the changes\n",
        "con.commit()"
      ]
    },
    {
      "cell_type": "code",
      "execution_count": 28,
      "metadata": {
        "colab": {
          "base_uri": "https://localhost:8080/"
        },
        "id": "2o6T8O9waLZt",
        "outputId": "5631da4c-e451-4484-e248-018d39a09470"
      },
      "outputs": [
        {
          "output_type": "stream",
          "name": "stdout",
          "text": [
            "('ABCD', 'Vishnu', 'Babita', 'Remo', '2013')\n",
            "('ABCD2', 'Prabhu Deva', 'Shraddha', 'Remo', '2015')\n",
            "('Dune', 'Josh Brolin', 'Rohini', 'Denis Villeneuve', '2021')\n",
            "('Old', 'Gael García Bernal', 'Eliza Scanlen', 'M. Night Shyamalan', '2025')\n",
            "('Iron Man', 'Stan Lee', 'Renuka', 'Jon Favreau', '2016')\n"
          ]
        }
      ],
      "source": [
        "for row in cur.execute('SELECT * FROM MOVIE'):\n",
        "        print(row)"
      ]
    },
    {
      "cell_type": "code",
      "execution_count": 34,
      "metadata": {
        "colab": {
          "base_uri": "https://localhost:8080/"
        },
        "id": "Id5vY6DmaLZu",
        "outputId": "7fd43931-c033-4f09-8517-a7e79caa484d"
      },
      "outputs": [
        {
          "output_type": "stream",
          "name": "stdout",
          "text": [
            "[('ABCD', 'Vishnu', 'Babita', 'Remo', '2013'), ('ABCD2', 'Prabhu Deva', 'Shraddha', 'Remo', '2015')]\n"
          ]
        }
      ],
      "source": [
        "cur.execute(\"SELECT * FROM MOVIE WHERE Director = 'Remo'\")\n",
        "print(cur.fetchall())"
      ]
    },
    {
      "cell_type": "code",
      "source": [
        "cur.execute(\"SELECT Movie_Name FROM MOVIE WHERE Director = 'Remo'\")\n",
        "\n",
        "print(cur.fetchall())\n"
      ],
      "metadata": {
        "colab": {
          "base_uri": "https://localhost:8080/"
        },
        "id": "sGHehe7ijC_f",
        "outputId": "bf16d7ec-c473-4018-89ef-ad13d64e5cdd"
      },
      "execution_count": 40,
      "outputs": [
        {
          "output_type": "stream",
          "name": "stdout",
          "text": [
            "[('ABCD',), ('ABCD2',)]\n"
          ]
        }
      ]
    }
  ],
  "metadata": {
    "interpreter": {
      "hash": "8ad901ce62f1419bc6a319ef3aef13f4636920bf70484de08570962413f6845e"
    },
    "kernelspec": {
      "display_name": "Python 3.10.1 64-bit",
      "language": "python",
      "name": "python3"
    },
    "language_info": {
      "codemirror_mode": {
        "name": "ipython",
        "version": 3
      },
      "file_extension": ".py",
      "mimetype": "text/x-python",
      "name": "python",
      "nbconvert_exporter": "python",
      "pygments_lexer": "ipython3",
      "version": "3.10.1"
    },
    "orig_nbformat": 4,
    "colab": {
      "name": "Mule_Soft.ipynb",
      "provenance": []
    }
  },
  "nbformat": 4,
  "nbformat_minor": 0
}